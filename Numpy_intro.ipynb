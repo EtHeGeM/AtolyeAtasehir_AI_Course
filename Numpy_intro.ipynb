{
  "nbformat": 4,
  "nbformat_minor": 0,
  "metadata": {
    "colab": {
      "provenance": []
    },
    "kernelspec": {
      "name": "python3",
      "display_name": "Python 3"
    },
    "language_info": {
      "name": "python"
    }
  },
  "cells": [
    {
      "cell_type": "code",
      "execution_count": 1,
      "metadata": {
        "id": "-W0T7oxX30kr"
      },
      "outputs": [],
      "source": [
        "import numpy as np"
      ]
    },
    {
      "cell_type": "code",
      "source": [
        "#arange komutu ile 0 dan başlayarak 5 değerine kadar bir array oluştur\n",
        "a = np.arange(6)\n",
        "a2 = a[np.newaxis, 1:3]\n",
        "a3 = a2[np.newaxis, 0]\n",
        "#shape fonksiyonu ile array in düzlemlerin büyüklüğünü yazdır.\n",
        "a2.shape"
      ],
      "metadata": {
        "colab": {
          "base_uri": "https://localhost:8080/"
        },
        "id": "gZBldsNS8AHL",
        "outputId": "3bae05d0-1362-445c-d182-49b2444e1205"
      },
      "execution_count": 25,
      "outputs": [
        {
          "output_type": "execute_result",
          "data": {
            "text/plain": [
              "(1, 2)"
            ]
          },
          "metadata": {},
          "execution_count": 25
        }
      ]
    },
    {
      "cell_type": "code",
      "source": [
        "print(a)\n",
        "print(a2)\n",
        "print(a3)"
      ],
      "metadata": {
        "colab": {
          "base_uri": "https://localhost:8080/"
        },
        "id": "WTkNZTPI8Q7g",
        "outputId": "6cc87df4-937e-4729-8151-00ba12445bb1"
      },
      "execution_count": 26,
      "outputs": [
        {
          "output_type": "stream",
          "name": "stdout",
          "text": [
            "[0 1 2 3 4 5]\n",
            "[[1 2]]\n",
            "[[1 2]]\n"
          ]
        }
      ]
    },
    {
      "cell_type": "markdown",
      "source": [
        "Array: Merkezi veri saklama birimimizdir.\n",
        "Basitçe adlandırmak gerekirse bir veri düzlemidir."
      ],
      "metadata": {
        "id": "frryKJc69Lql"
      }
    },
    {
      "cell_type": "code",
      "source": [
        "a = np.array([[1, 2, 3, 4, 5, 6],[5,6,8,9,7,1],[5,8,6,2,18,6]])"
      ],
      "metadata": {
        "id": "oq9r4gVj8SiQ"
      },
      "execution_count": 7,
      "outputs": []
    },
    {
      "cell_type": "code",
      "source": [
        "a"
      ],
      "metadata": {
        "colab": {
          "base_uri": "https://localhost:8080/"
        },
        "id": "n6YHNzuZ9XVZ",
        "outputId": "45c57f22-828c-4262-a60b-a5bba6bb0284"
      },
      "execution_count": 8,
      "outputs": [
        {
          "output_type": "execute_result",
          "data": {
            "text/plain": [
              "array([[ 1,  2,  3,  4,  5,  6],\n",
              "       [ 5,  6,  8,  9,  7,  1],\n",
              "       [ 5,  8,  6,  2, 18,  6]])"
            ]
          },
          "metadata": {},
          "execution_count": 8
        }
      ]
    },
    {
      "cell_type": "code",
      "source": [
        "myList = [0,5,9,5,2,1,8,63,2,1,8,9,2,3,5,8,74,6,2]\n",
        "\n",
        "myList[5]\n",
        "#indexler sayılmaya 0 dan başlar.\n",
        "\n"
      ],
      "metadata": {
        "colab": {
          "base_uri": "https://localhost:8080/"
        },
        "id": "YLKgP4yC9meR",
        "outputId": "c317bf30-f262-4f8c-8abb-83b025e8a787"
      },
      "execution_count": 9,
      "outputs": [
        {
          "output_type": "execute_result",
          "data": {
            "text/plain": [
              "1"
            ]
          },
          "metadata": {},
          "execution_count": 9
        }
      ]
    },
    {
      "cell_type": "markdown",
      "source": [
        "Arrayler; n boyutlu olmak üzerine şekillenebilir, matrix ve vector olabilir."
      ],
      "metadata": {
        "id": "UxBrMAZL_Wti"
      }
    },
    {
      "cell_type": "code",
      "source": [
        "a = np.array([[0., 0., 0.],\n",
        " [1., 1., 1.]])"
      ],
      "metadata": {
        "id": "N22BFDoK97gy"
      },
      "execution_count": 28,
      "outputs": []
    },
    {
      "cell_type": "markdown",
      "source": [],
      "metadata": {
        "id": "uamQuoHiAMAB"
      }
    },
    {
      "cell_type": "code",
      "source": [
        "a"
      ],
      "metadata": {
        "colab": {
          "base_uri": "https://localhost:8080/"
        },
        "id": "hPevRQctAN7j",
        "outputId": "3d92d2a7-d36e-4f22-f52d-440c03ed34ec"
      },
      "execution_count": 29,
      "outputs": [
        {
          "output_type": "execute_result",
          "data": {
            "text/plain": [
              "array([[0., 0., 0.],\n",
              "       [1., 1., 1.]])"
            ]
          },
          "metadata": {},
          "execution_count": 29
        }
      ]
    },
    {
      "cell_type": "code",
      "source": [
        "#zeros fonksiyonunu çalıştırken matrix büyüklüğünü ([]) içindeki değerlerle ayarlayabiliriz.\n",
        "print(np.zeros([3,3]))"
      ],
      "metadata": {
        "colab": {
          "base_uri": "https://localhost:8080/"
        },
        "id": "3cr9TtfTAOM4",
        "outputId": "d5187b8b-be10-4e2d-968e-880aae021f8a"
      },
      "execution_count": 35,
      "outputs": [
        {
          "output_type": "stream",
          "name": "stdout",
          "text": [
            "[[0. 0. 0.]\n",
            " [0. 0. 0.]\n",
            " [0. 0. 0.]]\n"
          ]
        }
      ]
    },
    {
      "cell_type": "code",
      "source": [
        "print(np.ones([3,3]))"
      ],
      "metadata": {
        "colab": {
          "base_uri": "https://localhost:8080/"
        },
        "id": "QJMmQFcJAVYI",
        "outputId": "bef2d186-d7cb-49d3-853d-74ad9afeb268"
      },
      "execution_count": 36,
      "outputs": [
        {
          "output_type": "stream",
          "name": "stdout",
          "text": [
            "[[1. 1. 1.]\n",
            " [1. 1. 1.]\n",
            " [1. 1. 1.]]\n"
          ]
        }
      ]
    },
    {
      "cell_type": "code",
      "source": [
        "#The function empty creates an array whose initial content\n",
        "#is random and depends on the state of the memory.\n",
        "print(np.empty([6,8]))\n",
        "print(np.zeros([6,8]))"
      ],
      "metadata": {
        "colab": {
          "base_uri": "https://localhost:8080/"
        },
        "id": "sG8BV4rAAr-A",
        "outputId": "1e8ebb32-cd2a-4061-f277-d402af81da59"
      },
      "execution_count": 44,
      "outputs": [
        {
          "output_type": "stream",
          "name": "stdout",
          "text": [
            "[[4.64040571e-310 0.00000000e+000 6.76392678e-310 6.76392677e-310\n",
            "  6.76399008e-310 6.76392678e-310 6.76399007e-310 6.76399008e-310]\n",
            " [6.76399005e-310 6.76399014e-310 6.76398998e-310 6.76399011e-310\n",
            "  6.76399003e-310 6.76396890e-310 6.76392677e-310 6.76399003e-310]\n",
            " [6.76398999e-310 6.76399003e-310 6.76392677e-310 6.76398982e-310\n",
            "  6.76399008e-310 6.76392678e-310 6.76399007e-310 6.76392677e-310]\n",
            " [6.76392677e-310 6.76399013e-310 6.76399008e-310 6.76399013e-310\n",
            "  6.76399013e-310 6.76399013e-310 6.76392677e-310 6.76399014e-310]\n",
            " [6.76399007e-310 6.76399014e-310 6.76392677e-310 6.76399014e-310\n",
            "  6.76399008e-310 6.76392677e-310 6.76399007e-310 6.76392677e-310]\n",
            " [6.76398998e-310 6.76399008e-310 6.76399008e-310 6.76392678e-310\n",
            "  6.76392678e-310 6.76399008e-310 6.76392677e-310 6.76399007e-310]]\n",
            "[[0. 0. 0. 0. 0. 0. 0. 0.]\n",
            " [0. 0. 0. 0. 0. 0. 0. 0.]\n",
            " [0. 0. 0. 0. 0. 0. 0. 0.]\n",
            " [0. 0. 0. 0. 0. 0. 0. 0.]\n",
            " [0. 0. 0. 0. 0. 0. 0. 0.]\n",
            " [0. 0. 0. 0. 0. 0. 0. 0.]]\n"
          ]
        }
      ]
    },
    {
      "cell_type": "code",
      "source": [
        "print(np.arange(9))"
      ],
      "metadata": {
        "colab": {
          "base_uri": "https://localhost:8080/"
        },
        "id": "upLa4HK5AwnY",
        "outputId": "a1259cb7-6495-421a-b23a-e7d23966b906"
      },
      "execution_count": 45,
      "outputs": [
        {
          "output_type": "stream",
          "name": "stdout",
          "text": [
            "[0 1 2 3 4 5 6 7 8]\n"
          ]
        }
      ]
    },
    {
      "cell_type": "code",
      "source": [
        "\"\"\"linspace fonksiyonu başlangıç, son değerleri arasındaki değerleri\n",
        "verilen sayı kadar eşit parçaya bölerek bir array oluşturur.\"\"\"\n",
        "np.linspace(0, 10000, num=250)"
      ],
      "metadata": {
        "colab": {
          "base_uri": "https://localhost:8080/"
        },
        "id": "6t0uUwXOBXiQ",
        "outputId": "783e412d-8596-433c-fc49-ecd1b6b5f549"
      },
      "execution_count": 48,
      "outputs": [
        {
          "output_type": "execute_result",
          "data": {
            "text/plain": [
              "array([    0.        ,    40.16064257,    80.32128514,   120.48192771,\n",
              "         160.64257028,   200.80321285,   240.96385542,   281.12449799,\n",
              "         321.28514056,   361.44578313,   401.6064257 ,   441.76706827,\n",
              "         481.92771084,   522.08835341,   562.24899598,   602.40963855,\n",
              "         642.57028112,   682.73092369,   722.89156627,   763.05220884,\n",
              "         803.21285141,   843.37349398,   883.53413655,   923.69477912,\n",
              "         963.85542169,  1004.01606426,  1044.17670683,  1084.3373494 ,\n",
              "        1124.49799197,  1164.65863454,  1204.81927711,  1244.97991968,\n",
              "        1285.14056225,  1325.30120482,  1365.46184739,  1405.62248996,\n",
              "        1445.78313253,  1485.9437751 ,  1526.10441767,  1566.26506024,\n",
              "        1606.42570281,  1646.58634538,  1686.74698795,  1726.90763052,\n",
              "        1767.06827309,  1807.22891566,  1847.38955823,  1887.5502008 ,\n",
              "        1927.71084337,  1967.87148594,  2008.03212851,  2048.19277108,\n",
              "        2088.35341365,  2128.51405622,  2168.6746988 ,  2208.83534137,\n",
              "        2248.99598394,  2289.15662651,  2329.31726908,  2369.47791165,\n",
              "        2409.63855422,  2449.79919679,  2489.95983936,  2530.12048193,\n",
              "        2570.2811245 ,  2610.44176707,  2650.60240964,  2690.76305221,\n",
              "        2730.92369478,  2771.08433735,  2811.24497992,  2851.40562249,\n",
              "        2891.56626506,  2931.72690763,  2971.8875502 ,  3012.04819277,\n",
              "        3052.20883534,  3092.36947791,  3132.53012048,  3172.69076305,\n",
              "        3212.85140562,  3253.01204819,  3293.17269076,  3333.33333333,\n",
              "        3373.4939759 ,  3413.65461847,  3453.81526104,  3493.97590361,\n",
              "        3534.13654618,  3574.29718876,  3614.45783133,  3654.6184739 ,\n",
              "        3694.77911647,  3734.93975904,  3775.10040161,  3815.26104418,\n",
              "        3855.42168675,  3895.58232932,  3935.74297189,  3975.90361446,\n",
              "        4016.06425703,  4056.2248996 ,  4096.38554217,  4136.54618474,\n",
              "        4176.70682731,  4216.86746988,  4257.02811245,  4297.18875502,\n",
              "        4337.34939759,  4377.51004016,  4417.67068273,  4457.8313253 ,\n",
              "        4497.99196787,  4538.15261044,  4578.31325301,  4618.47389558,\n",
              "        4658.63453815,  4698.79518072,  4738.95582329,  4779.11646586,\n",
              "        4819.27710843,  4859.437751  ,  4899.59839357,  4939.75903614,\n",
              "        4979.91967871,  5020.08032129,  5060.24096386,  5100.40160643,\n",
              "        5140.562249  ,  5180.72289157,  5220.88353414,  5261.04417671,\n",
              "        5301.20481928,  5341.36546185,  5381.52610442,  5421.68674699,\n",
              "        5461.84738956,  5502.00803213,  5542.1686747 ,  5582.32931727,\n",
              "        5622.48995984,  5662.65060241,  5702.81124498,  5742.97188755,\n",
              "        5783.13253012,  5823.29317269,  5863.45381526,  5903.61445783,\n",
              "        5943.7751004 ,  5983.93574297,  6024.09638554,  6064.25702811,\n",
              "        6104.41767068,  6144.57831325,  6184.73895582,  6224.89959839,\n",
              "        6265.06024096,  6305.22088353,  6345.3815261 ,  6385.54216867,\n",
              "        6425.70281124,  6465.86345382,  6506.02409639,  6546.18473896,\n",
              "        6586.34538153,  6626.5060241 ,  6666.66666667,  6706.82730924,\n",
              "        6746.98795181,  6787.14859438,  6827.30923695,  6867.46987952,\n",
              "        6907.63052209,  6947.79116466,  6987.95180723,  7028.1124498 ,\n",
              "        7068.27309237,  7108.43373494,  7148.59437751,  7188.75502008,\n",
              "        7228.91566265,  7269.07630522,  7309.23694779,  7349.39759036,\n",
              "        7389.55823293,  7429.7188755 ,  7469.87951807,  7510.04016064,\n",
              "        7550.20080321,  7590.36144578,  7630.52208835,  7670.68273092,\n",
              "        7710.84337349,  7751.00401606,  7791.16465863,  7831.3253012 ,\n",
              "        7871.48594378,  7911.64658635,  7951.80722892,  7991.96787149,\n",
              "        8032.12851406,  8072.28915663,  8112.4497992 ,  8152.61044177,\n",
              "        8192.77108434,  8232.93172691,  8273.09236948,  8313.25301205,\n",
              "        8353.41365462,  8393.57429719,  8433.73493976,  8473.89558233,\n",
              "        8514.0562249 ,  8554.21686747,  8594.37751004,  8634.53815261,\n",
              "        8674.69879518,  8714.85943775,  8755.02008032,  8795.18072289,\n",
              "        8835.34136546,  8875.50200803,  8915.6626506 ,  8955.82329317,\n",
              "        8995.98393574,  9036.14457831,  9076.30522088,  9116.46586345,\n",
              "        9156.62650602,  9196.78714859,  9236.94779116,  9277.10843373,\n",
              "        9317.26907631,  9357.42971888,  9397.59036145,  9437.75100402,\n",
              "        9477.91164659,  9518.07228916,  9558.23293173,  9598.3935743 ,\n",
              "        9638.55421687,  9678.71485944,  9718.87550201,  9759.03614458,\n",
              "        9799.19678715,  9839.35742972,  9879.51807229,  9919.67871486,\n",
              "        9959.83935743, 10000.        ])"
            ]
          },
          "metadata": {},
          "execution_count": 48
        }
      ]
    },
    {
      "cell_type": "code",
      "source": [
        "\"\"\"arraylerin içerisindeki değerlerin veri tipini değiştirmek\n",
        "için dtype parametresini kullanabiliriz\"\"\"\n",
        "x = np.ones([5,5], dtype=np.int64)\n",
        "x"
      ],
      "metadata": {
        "colab": {
          "base_uri": "https://localhost:8080/"
        },
        "id": "nBLSQZj_Bgi3",
        "outputId": "f3df4a63-10c2-4934-b701-70bb603cbc5a"
      },
      "execution_count": 50,
      "outputs": [
        {
          "output_type": "execute_result",
          "data": {
            "text/plain": [
              "array([[1, 1, 1, 1, 1],\n",
              "       [1, 1, 1, 1, 1],\n",
              "       [1, 1, 1, 1, 1],\n",
              "       [1, 1, 1, 1, 1],\n",
              "       [1, 1, 1, 1, 1]])"
            ]
          },
          "metadata": {},
          "execution_count": 50
        }
      ]
    },
    {
      "cell_type": "code",
      "source": [
        "\n",
        "arr = np.array([2, 1, 5,5,5,5,6,8,8,77,8,2,1,56,5, 3, 7, 4, 6, 8])\n",
        "\n",
        "np.sort(arr)\n",
        "\n"
      ],
      "metadata": {
        "colab": {
          "base_uri": "https://localhost:8080/"
        },
        "id": "T6gEpxyeCGG3",
        "outputId": "da126395-a906-4bdb-f48a-b809b27bf292"
      },
      "execution_count": 52,
      "outputs": [
        {
          "output_type": "execute_result",
          "data": {
            "text/plain": [
              "array([ 1,  1,  2,  2,  3,  4,  5,  5,  5,  5,  5,  6,  6,  7,  8,  8,  8,\n",
              "        8, 56, 77])"
            ]
          },
          "metadata": {},
          "execution_count": 52
        }
      ]
    },
    {
      "cell_type": "code",
      "source": [
        "\"\"\"argsort, which is an indirect sort along a specified axis,\n",
        "\n",
        "lexsort, which is an indirect stable sort on multiple keys,\n",
        "\n",
        "searchsorted, which will find elements in a sorted array, and\n",
        "\n",
        "partition, which is a partial sort.\"\"\"\n",
        "\n"
      ],
      "metadata": {
        "colab": {
          "base_uri": "https://localhost:8080/",
          "height": 53
        },
        "id": "gdCSr_v1CfJZ",
        "outputId": "7c786f76-235a-43b4-d5d0-150a97426b03"
      },
      "execution_count": 53,
      "outputs": [
        {
          "output_type": "execute_result",
          "data": {
            "text/plain": [
              "'argsort, which is an indirect sort along a specified axis,\\n\\nlexsort, which is an indirect stable sort on multiple keys,\\n\\nsearchsorted, which will find elements in a sorted array, and\\n\\npartition, which is a partial sort.'"
            ],
            "application/vnd.google.colaboratory.intrinsic+json": {
              "type": "string"
            }
          },
          "metadata": {},
          "execution_count": 53
        }
      ]
    },
    {
      "cell_type": "code",
      "source": [
        "a = np.array([1, 2, 3, 4])\n",
        "b = np.array([4,5, 6, 7])"
      ],
      "metadata": {
        "id": "2fu7J8fkCsAC"
      },
      "execution_count": 60,
      "outputs": []
    },
    {
      "cell_type": "code",
      "source": [
        "\"\"\"concatenate ifadesi verilen birkaç matrixi\n",
        " birleştirerek, varolan değerleri matrix başı kaç defa varsa toplamı kadar yazdırır\"\"\"\n",
        "np.concatenate((a,b))"
      ],
      "metadata": {
        "colab": {
          "base_uri": "https://localhost:8080/"
        },
        "id": "NFVznIMjCw8o",
        "outputId": "c32a244d-fd22-465b-a4ff-02172bf34eb6"
      },
      "execution_count": 61,
      "outputs": [
        {
          "output_type": "execute_result",
          "data": {
            "text/plain": [
              "array([1, 2, 3, 4, 4, 5, 6, 7])"
            ]
          },
          "metadata": {},
          "execution_count": 61
        }
      ]
    },
    {
      "cell_type": "code",
      "source": [
        "x = np.array([[1, 2], [3, 4]])\n",
        "y = np.array([[5, 6]])"
      ],
      "metadata": {
        "id": "xV1f_XXPCyxf"
      },
      "execution_count": 62,
      "outputs": []
    },
    {
      "cell_type": "code",
      "source": [
        "np.concatenate((x, y),axis=0)"
      ],
      "metadata": {
        "colab": {
          "base_uri": "https://localhost:8080/"
        },
        "id": "1THE_VBhDZrg",
        "outputId": "04fa2ea3-eb29-46f6-e211-6f64b614bbed"
      },
      "execution_count": 66,
      "outputs": [
        {
          "output_type": "execute_result",
          "data": {
            "text/plain": [
              "array([[1, 2],\n",
              "       [3, 4],\n",
              "       [5, 6]])"
            ]
          },
          "metadata": {},
          "execution_count": 66
        }
      ]
    },
    {
      "cell_type": "code",
      "source": [
        "array_example = np.array([[[0, 1, 2, 3],\n",
        "                           [4, 5, 6, 7]],\n",
        "\n",
        "                          [[0, 1, 2, 3],\n",
        "                           [4, 5, 6, 7]],\n",
        "\n",
        "                          [[0 ,1 ,2, 3],\n",
        "                           [4, 5, 6, 7]],\n",
        "                          [[0 ,1 ,2, 3],\n",
        "                           [4, 5, 6, 7]]])"
      ],
      "metadata": {
        "id": "3lj1Nm5nDb1e"
      },
      "execution_count": 76,
      "outputs": []
    },
    {
      "cell_type": "code",
      "source": [
        "array_example.ndim"
      ],
      "metadata": {
        "colab": {
          "base_uri": "https://localhost:8080/"
        },
        "id": "-Kqw1mmsEFUw",
        "outputId": "fd1ba167-8fa0-4258-b8cb-018a42979a9f"
      },
      "execution_count": 77,
      "outputs": [
        {
          "output_type": "execute_result",
          "data": {
            "text/plain": [
              "3"
            ]
          },
          "metadata": {},
          "execution_count": 77
        }
      ]
    },
    {
      "cell_type": "code",
      "source": [
        "array_example.size"
      ],
      "metadata": {
        "colab": {
          "base_uri": "https://localhost:8080/"
        },
        "id": "qZX1sme_EEIH",
        "outputId": "368b4fde-c947-428f-b2a9-ca919fad86e8"
      },
      "execution_count": 78,
      "outputs": [
        {
          "output_type": "execute_result",
          "data": {
            "text/plain": [
              "32"
            ]
          },
          "metadata": {},
          "execution_count": 78
        }
      ]
    },
    {
      "cell_type": "code",
      "source": [
        "array_example.shape"
      ],
      "metadata": {
        "colab": {
          "base_uri": "https://localhost:8080/"
        },
        "id": "tGYVSxtYEITH",
        "outputId": "86af508c-ab53-49aa-d489-0b071efac8fe"
      },
      "execution_count": 79,
      "outputs": [
        {
          "output_type": "execute_result",
          "data": {
            "text/plain": [
              "(4, 2, 4)"
            ]
          },
          "metadata": {},
          "execution_count": 79
        }
      ]
    },
    {
      "cell_type": "code",
      "source": [
        "a = np.arange(6)\n",
        "a"
      ],
      "metadata": {
        "colab": {
          "base_uri": "https://localhost:8080/"
        },
        "id": "6P_nIz1LEKOf",
        "outputId": "752802bb-9d5f-431e-cd44-4afe86b51b06"
      },
      "execution_count": 84,
      "outputs": [
        {
          "output_type": "execute_result",
          "data": {
            "text/plain": [
              "array([0, 1, 2, 3, 4, 5])"
            ]
          },
          "metadata": {},
          "execution_count": 84
        }
      ]
    },
    {
      "cell_type": "code",
      "source": [
        "b = a.reshape(3, 2)"
      ],
      "metadata": {
        "id": "uC7d-oUwE3XJ"
      },
      "execution_count": 81,
      "outputs": []
    },
    {
      "cell_type": "code",
      "source": [
        "b"
      ],
      "metadata": {
        "colab": {
          "base_uri": "https://localhost:8080/"
        },
        "id": "arbr0HBPE5xs",
        "outputId": "38b80fe7-40e3-460f-e92a-a3b6e317a328"
      },
      "execution_count": 82,
      "outputs": [
        {
          "output_type": "execute_result",
          "data": {
            "text/plain": [
              "array([[0, 1],\n",
              "       [2, 3],\n",
              "       [4, 5]])"
            ]
          },
          "metadata": {},
          "execution_count": 82
        }
      ]
    },
    {
      "cell_type": "code",
      "source": [
        "np.reshape(a, newshape=(1, 6), order='C')"
      ],
      "metadata": {
        "colab": {
          "base_uri": "https://localhost:8080/"
        },
        "id": "DHA_A7ydFMEP",
        "outputId": "c88c6f7e-52ee-42c5-fe23-90283e0e1f87"
      },
      "execution_count": 85,
      "outputs": [
        {
          "output_type": "execute_result",
          "data": {
            "text/plain": [
              "array([[0, 1, 2, 3, 4, 5]])"
            ]
          },
          "metadata": {},
          "execution_count": 85
        }
      ]
    },
    {
      "cell_type": "code",
      "source": [
        "a = np.array([1,2,3,4,5,6])\n",
        "a.shape"
      ],
      "metadata": {
        "colab": {
          "base_uri": "https://localhost:8080/"
        },
        "id": "cNBsQju3FY7O",
        "outputId": "c109816f-e077-465b-acdb-28044ea23104"
      },
      "execution_count": 95,
      "outputs": [
        {
          "output_type": "execute_result",
          "data": {
            "text/plain": [
              "(6,)"
            ]
          },
          "metadata": {},
          "execution_count": 95
        }
      ]
    },
    {
      "cell_type": "code",
      "source": [
        "a2 = a[np.newaxis, :]\n",
        "a2.shape\n",
        "a2"
      ],
      "metadata": {
        "colab": {
          "base_uri": "https://localhost:8080/"
        },
        "id": "Oy9uTDuaFus-",
        "outputId": "7cb24d53-845a-41b5-ff5f-a32fea5e8965"
      },
      "execution_count": 97,
      "outputs": [
        {
          "output_type": "execute_result",
          "data": {
            "text/plain": [
              "array([[1, 2, 3, 4, 5, 6]])"
            ]
          },
          "metadata": {},
          "execution_count": 97
        }
      ]
    },
    {
      "cell_type": "code",
      "source": [
        "col_vector = a[:, np.newaxis]\n",
        "col_vector.shape\n",
        "col_vector"
      ],
      "metadata": {
        "colab": {
          "base_uri": "https://localhost:8080/"
        },
        "id": "NVvjyszmGyY_",
        "outputId": "0a780138-7d93-485a-ce31-c004f37e0fd5"
      },
      "execution_count": 99,
      "outputs": [
        {
          "output_type": "execute_result",
          "data": {
            "text/plain": [
              "array([[1],\n",
              "       [2],\n",
              "       [3],\n",
              "       [4],\n",
              "       [5],\n",
              "       [6]])"
            ]
          },
          "metadata": {},
          "execution_count": 99
        }
      ]
    },
    {
      "cell_type": "code",
      "source": [
        "b = np.expand_dims(a, axis=1)\n",
        "b.shape\n",
        "(6, 1)"
      ],
      "metadata": {
        "colab": {
          "base_uri": "https://localhost:8080/"
        },
        "id": "2JDUlKbZG_ht",
        "outputId": "f49379f9-ba7b-493f-cb8d-dc9ccb49e735"
      },
      "execution_count": 101,
      "outputs": [
        {
          "output_type": "execute_result",
          "data": {
            "text/plain": [
              "(6, 1)"
            ]
          },
          "metadata": {},
          "execution_count": 101
        }
      ]
    },
    {
      "cell_type": "code",
      "source": [
        "a = np.array([[1 , 2, 3, 4], [5, 6, 7, 8], [9, 10, 11, 12]])"
      ],
      "metadata": {
        "id": "yLWRtz7iHNfu"
      },
      "execution_count": 102,
      "outputs": []
    },
    {
      "cell_type": "code",
      "source": [
        "print(a[a < 12])"
      ],
      "metadata": {
        "colab": {
          "base_uri": "https://localhost:8080/"
        },
        "id": "qQw-h0tpHkbE",
        "outputId": "27881504-1ebc-45aa-f038-201d9413387a"
      },
      "execution_count": 105,
      "outputs": [
        {
          "output_type": "stream",
          "name": "stdout",
          "text": [
            "[ 1  2  3  4  5  6  7  8  9 10 11]\n"
          ]
        }
      ]
    },
    {
      "cell_type": "code",
      "source": [
        "five_up = (a >= 5)\n",
        "print(a[five_up])"
      ],
      "metadata": {
        "colab": {
          "base_uri": "https://localhost:8080/"
        },
        "id": "Tda2AV0PHqFl",
        "outputId": "2e0fce1c-011e-4592-8bf3-73fef1a01703"
      },
      "execution_count": 106,
      "outputs": [
        {
          "output_type": "stream",
          "name": "stdout",
          "text": [
            "[ 5  6  7  8  9 10 11 12]\n"
          ]
        }
      ]
    },
    {
      "cell_type": "code",
      "source": [
        "divisible_by_2 = a[a%2==1]\n",
        "print(divisible_by_2)"
      ],
      "metadata": {
        "colab": {
          "base_uri": "https://localhost:8080/"
        },
        "id": "HbrJ8buIH7MF",
        "outputId": "a56aa41f-e043-4235-dc21-4e27c8471737"
      },
      "execution_count": 108,
      "outputs": [
        {
          "output_type": "stream",
          "name": "stdout",
          "text": [
            "[ 1  3  5  7  9 11]\n"
          ]
        }
      ]
    },
    {
      "cell_type": "code",
      "source": [
        "c = a[(a > 2) & (a < 11)]\n",
        "print(c)"
      ],
      "metadata": {
        "colab": {
          "base_uri": "https://localhost:8080/"
        },
        "id": "oRoRdfyBIFe1",
        "outputId": "bb9f49c8-7b98-43cf-a52c-b639f2c290ff"
      },
      "execution_count": 109,
      "outputs": [
        {
          "output_type": "stream",
          "name": "stdout",
          "text": [
            "[ 3  4  5  6  7  8  9 10]\n"
          ]
        }
      ]
    },
    {
      "cell_type": "code",
      "source": [
        "five_up = (a <= 5)\n",
        "print(five_up)"
      ],
      "metadata": {
        "colab": {
          "base_uri": "https://localhost:8080/"
        },
        "id": "aOiyYabtIONx",
        "outputId": "2d22348e-3e5a-4c66-d358-c919c4886373"
      },
      "execution_count": 114,
      "outputs": [
        {
          "output_type": "stream",
          "name": "stdout",
          "text": [
            "[[ True  True  True  True]\n",
            " [ True False False False]\n",
            " [False False False False]]\n"
          ]
        }
      ]
    },
    {
      "cell_type": "code",
      "source": [
        "a = np.array([[1, 2, 3, 4], [5, 6, 7, 8], [9, 10, 11, 12]])\n"
      ],
      "metadata": {
        "id": "AqzqcLm9IVFF"
      },
      "execution_count": 115,
      "outputs": []
    },
    {
      "cell_type": "code",
      "source": [
        "\"\"\" çıktı verilen ilk değer dış matrixteki yerini,\n",
        " ikinci değer de sütun numarasını vermektedir\"\"\"\n",
        "b = np.nonzero(a >5)\n",
        "print(b)"
      ],
      "metadata": {
        "colab": {
          "base_uri": "https://localhost:8080/"
        },
        "id": "4l77_8rhI8Q_",
        "outputId": "e189dae6-4ddd-4446-cf5f-c51902d1369f"
      },
      "execution_count": 121,
      "outputs": [
        {
          "output_type": "stream",
          "name": "stdout",
          "text": [
            "(array([1, 1, 1, 2, 2, 2, 2]), array([1, 2, 3, 0, 1, 2, 3]))\n"
          ]
        }
      ]
    },
    {
      "cell_type": "code",
      "source": [
        "list_of_coordinates= list(zip(b[0], b[1]))\n",
        "for coord in list_of_coordinates:\n",
        "    print(coord)\n",
        "\n"
      ],
      "metadata": {
        "colab": {
          "base_uri": "https://localhost:8080/"
        },
        "id": "yRxBNtEVI8x1",
        "outputId": "98defec1-4a32-4899-eb07-a50a0292f792"
      },
      "execution_count": 122,
      "outputs": [
        {
          "output_type": "stream",
          "name": "stdout",
          "text": [
            "(1, 1)\n",
            "(1, 2)\n",
            "(1, 3)\n",
            "(2, 0)\n",
            "(2, 1)\n",
            "(2, 2)\n",
            "(2, 3)\n"
          ]
        }
      ]
    },
    {
      "cell_type": "code",
      "source": [
        "a = np.array([1,  2,  3,  4,  5,  6,  7,  8,  9, 10])\n"
      ],
      "metadata": {
        "id": "kHpcciPyKa85"
      },
      "execution_count": 123,
      "outputs": []
    },
    {
      "cell_type": "code",
      "source": [
        "\n",
        "arr1 = a[3:8]\n",
        "arr1"
      ],
      "metadata": {
        "colab": {
          "base_uri": "https://localhost:8080/"
        },
        "id": "5IIL1XPpK2u9",
        "outputId": "3c0f6dbc-e9aa-41b2-d27e-c2720a49c89f"
      },
      "execution_count": 125,
      "outputs": [
        {
          "output_type": "execute_result",
          "data": {
            "text/plain": [
              "array([4, 5, 6, 7, 8])"
            ]
          },
          "metadata": {},
          "execution_count": 125
        }
      ]
    },
    {
      "cell_type": "code",
      "source": [
        "a1 = np.array([[1, 1],\n",
        "               [2, 2]])\n",
        "\n",
        "a2 = np.array([[3, 3],\n",
        "               [4, 4]])"
      ],
      "metadata": {
        "id": "Lux3EzNLK9AM"
      },
      "execution_count": 126,
      "outputs": []
    },
    {
      "cell_type": "code",
      "source": [
        "#vertical stacking\n",
        "np.vstack((a1, a2))"
      ],
      "metadata": {
        "colab": {
          "base_uri": "https://localhost:8080/"
        },
        "id": "KwswMp9rLKFc",
        "outputId": "48df1502-4192-414a-9141-4579d2c3a792"
      },
      "execution_count": 127,
      "outputs": [
        {
          "output_type": "execute_result",
          "data": {
            "text/plain": [
              "array([[1, 1],\n",
              "       [2, 2],\n",
              "       [3, 3],\n",
              "       [4, 4]])"
            ]
          },
          "metadata": {},
          "execution_count": 127
        }
      ]
    },
    {
      "cell_type": "code",
      "source": [
        "#horizontal stacking\n",
        "np.hstack((a1, a2))"
      ],
      "metadata": {
        "colab": {
          "base_uri": "https://localhost:8080/"
        },
        "id": "nQc3Zap8LMfA",
        "outputId": "7b6c4e86-8bf1-491a-e85d-1200337f0f62"
      },
      "execution_count": 128,
      "outputs": [
        {
          "output_type": "execute_result",
          "data": {
            "text/plain": [
              "array([[1, 1, 3, 3],\n",
              "       [2, 2, 4, 4]])"
            ]
          },
          "metadata": {},
          "execution_count": 128
        }
      ]
    },
    {
      "cell_type": "code",
      "source": [
        "x = np.arange(1, 25).reshape(2, 12)"
      ],
      "metadata": {
        "id": "ONeFaVPTLP3W"
      },
      "execution_count": 129,
      "outputs": []
    },
    {
      "cell_type": "code",
      "source": [
        "x"
      ],
      "metadata": {
        "colab": {
          "base_uri": "https://localhost:8080/"
        },
        "id": "ebmE7kvyLahW",
        "outputId": "de5eb9f8-da7e-4aac-ea48-0881aae09140"
      },
      "execution_count": 130,
      "outputs": [
        {
          "output_type": "execute_result",
          "data": {
            "text/plain": [
              "array([[ 1,  2,  3,  4,  5,  6,  7,  8,  9, 10, 11, 12],\n",
              "       [13, 14, 15, 16, 17, 18, 19, 20, 21, 22, 23, 24]])"
            ]
          },
          "metadata": {},
          "execution_count": 130
        }
      ]
    },
    {
      "cell_type": "code",
      "source": [
        "\"\"\"horizontal split verilen indexlere göre matrixleri eşit parçalara böler\"\"\"\n",
        "np.hsplit(x, 3)"
      ],
      "metadata": {
        "colab": {
          "base_uri": "https://localhost:8080/"
        },
        "id": "Dlx12OfGLeN7",
        "outputId": "9204fd38-bf1b-4d3e-830e-a26d4790ea50"
      },
      "execution_count": 131,
      "outputs": [
        {
          "output_type": "execute_result",
          "data": {
            "text/plain": [
              "[array([[ 1,  2,  3,  4],\n",
              "        [13, 14, 15, 16]]),\n",
              " array([[ 5,  6,  7,  8],\n",
              "        [17, 18, 19, 20]]),\n",
              " array([[ 9, 10, 11, 12],\n",
              "        [21, 22, 23, 24]])]"
            ]
          },
          "metadata": {},
          "execution_count": 131
        }
      ]
    },
    {
      "cell_type": "code",
      "source": [
        "np.hsplit(x, (3, 4))"
      ],
      "metadata": {
        "colab": {
          "base_uri": "https://localhost:8080/"
        },
        "id": "4pqf2CJuLa9d",
        "outputId": "1086b4f1-6a84-4b9a-97bd-0a38d969b037"
      },
      "execution_count": 132,
      "outputs": [
        {
          "output_type": "execute_result",
          "data": {
            "text/plain": [
              "[array([[ 1,  2,  3],\n",
              "        [13, 14, 15]]),\n",
              " array([[ 4],\n",
              "        [16]]),\n",
              " array([[ 5,  6,  7,  8,  9, 10, 11, 12],\n",
              "        [17, 18, 19, 20, 21, 22, 23, 24]])]"
            ]
          },
          "metadata": {},
          "execution_count": 132
        }
      ]
    },
    {
      "cell_type": "code",
      "source": [
        "a = np.array([[1, 2, 3, 4], [5, 6, 7, 8], [9, 10, 11, 12]])\n"
      ],
      "metadata": {
        "id": "gsfQBzLkLprR"
      },
      "execution_count": 133,
      "outputs": []
    },
    {
      "cell_type": "code",
      "source": [
        "b1 = a[0, 0:2]\n",
        "b1"
      ],
      "metadata": {
        "colab": {
          "base_uri": "https://localhost:8080/"
        },
        "id": "iYLKVmC4QWJJ",
        "outputId": "3f6ab7ed-1467-473d-836b-c27aec0b919a"
      },
      "execution_count": 135,
      "outputs": [
        {
          "output_type": "execute_result",
          "data": {
            "text/plain": [
              "array([1, 2])"
            ]
          },
          "metadata": {},
          "execution_count": 135
        }
      ]
    },
    {
      "cell_type": "code",
      "source": [
        "b1[0] = 99\n",
        "b1"
      ],
      "metadata": {
        "colab": {
          "base_uri": "https://localhost:8080/"
        },
        "id": "98RAaDbDQZ9i",
        "outputId": "37bd939a-f323-48b1-eb6a-a282ce808d55"
      },
      "execution_count": 136,
      "outputs": [
        {
          "output_type": "execute_result",
          "data": {
            "text/plain": [
              "array([99,  2])"
            ]
          },
          "metadata": {},
          "execution_count": 136
        }
      ]
    },
    {
      "cell_type": "code",
      "source": [
        "a"
      ],
      "metadata": {
        "colab": {
          "base_uri": "https://localhost:8080/"
        },
        "id": "WOS5trgKQj8K",
        "outputId": "7d4e786f-3c70-4f0d-d98c-5bc6a34a25a3"
      },
      "execution_count": 137,
      "outputs": [
        {
          "output_type": "execute_result",
          "data": {
            "text/plain": [
              "array([[99,  2,  3,  4],\n",
              "       [ 5,  6,  7,  8],\n",
              "       [ 9, 10, 11, 12]])"
            ]
          },
          "metadata": {},
          "execution_count": 137
        }
      ]
    },
    {
      "cell_type": "code",
      "source": [
        "b2 = a.copy()"
      ],
      "metadata": {
        "id": "nPBgoVDIQoI7"
      },
      "execution_count": 138,
      "outputs": []
    },
    {
      "cell_type": "code",
      "source": [
        "data = np.array([1, 2])\n",
        "ones = np.ones(2, dtype=int)\n",
        "data + ones"
      ],
      "metadata": {
        "colab": {
          "base_uri": "https://localhost:8080/"
        },
        "id": "RGxwViOsQvYa",
        "outputId": "847c1bcb-6741-429f-825a-ec6f2146852b"
      },
      "execution_count": 144,
      "outputs": [
        {
          "output_type": "execute_result",
          "data": {
            "text/plain": [
              "array([2, 3])"
            ]
          },
          "metadata": {},
          "execution_count": 144
        }
      ]
    },
    {
      "cell_type": "code",
      "source": [
        "print(np.ones([1,2]))"
      ],
      "metadata": {
        "colab": {
          "base_uri": "https://localhost:8080/"
        },
        "id": "bMGAv3tKQ9-g",
        "outputId": "a2ab8092-0de9-4826-d1e6-ba3649b33563"
      },
      "execution_count": 142,
      "outputs": [
        {
          "output_type": "stream",
          "name": "stdout",
          "text": [
            "[[1. 1.]]\n"
          ]
        }
      ]
    },
    {
      "cell_type": "code",
      "source": [
        "data - ones"
      ],
      "metadata": {
        "colab": {
          "base_uri": "https://localhost:8080/"
        },
        "id": "MWIT5Zr2RE-y",
        "outputId": "b367b261-8bc7-400b-82e6-b14c3dbbd73f"
      },
      "execution_count": 145,
      "outputs": [
        {
          "output_type": "execute_result",
          "data": {
            "text/plain": [
              "array([0, 1])"
            ]
          },
          "metadata": {},
          "execution_count": 145
        }
      ]
    },
    {
      "cell_type": "code",
      "source": [
        "data * data"
      ],
      "metadata": {
        "colab": {
          "base_uri": "https://localhost:8080/"
        },
        "id": "L4e9R-dARdDm",
        "outputId": "31277e9c-f823-456d-f648-62b3f4d8488c"
      },
      "execution_count": 146,
      "outputs": [
        {
          "output_type": "execute_result",
          "data": {
            "text/plain": [
              "array([1, 4])"
            ]
          },
          "metadata": {},
          "execution_count": 146
        }
      ]
    },
    {
      "cell_type": "code",
      "source": [
        "data / data"
      ],
      "metadata": {
        "colab": {
          "base_uri": "https://localhost:8080/"
        },
        "id": "8NEsdBHKRegz",
        "outputId": "f8fa9f13-fd92-4751-d15a-e2dce6f4822b"
      },
      "execution_count": 147,
      "outputs": [
        {
          "output_type": "execute_result",
          "data": {
            "text/plain": [
              "array([1., 1.])"
            ]
          },
          "metadata": {},
          "execution_count": 147
        }
      ]
    },
    {
      "cell_type": "code",
      "source": [
        "#sum fonksiyonu matrix içerisindeki tüm itemleri toplar ve çıktı verir\n",
        "a = np.array([[1,5,6,2,8],[8,9,6,2,8]])\n",
        "c = 3\n",
        "\n",
        "\n",
        "a*c"
      ],
      "metadata": {
        "colab": {
          "base_uri": "https://localhost:8080/"
        },
        "id": "4j6j-CaFRgMp",
        "outputId": "f3b6f84e-b79a-44b0-d4fb-be41eec12656"
      },
      "execution_count": 174,
      "outputs": [
        {
          "output_type": "execute_result",
          "data": {
            "text/plain": [
              "array([[ 3, 15, 18,  6, 24],\n",
              "       [24, 27, 18,  6, 24]])"
            ]
          },
          "metadata": {},
          "execution_count": 174
        }
      ]
    },
    {
      "cell_type": "code",
      "source": [
        "b = np.array([[8,6], [5, -2],[8,26]])\n",
        "b"
      ],
      "metadata": {
        "colab": {
          "base_uri": "https://localhost:8080/"
        },
        "id": "8o0DaUhlRo8S",
        "outputId": "56d56e62-31e3-4299-c390-a7b6c9791437"
      },
      "execution_count": 173,
      "outputs": [
        {
          "output_type": "execute_result",
          "data": {
            "text/plain": [
              "array([[ 8,  6],\n",
              "       [ 5, -2],\n",
              "       [ 8, 26]])"
            ]
          },
          "metadata": {},
          "execution_count": 173
        }
      ]
    },
    {
      "cell_type": "code",
      "source": [
        "b.sum(axis=0)"
      ],
      "metadata": {
        "colab": {
          "base_uri": "https://localhost:8080/"
        },
        "id": "QySjeK8nS2Jm",
        "outputId": "eb77f1e8-bc58-4d3d-e549-5d9a220f520c"
      },
      "execution_count": 171,
      "outputs": [
        {
          "output_type": "execute_result",
          "data": {
            "text/plain": [
              "array([21, 30])"
            ]
          },
          "metadata": {},
          "execution_count": 171
        }
      ]
    },
    {
      "cell_type": "code",
      "source": [
        "b.sum(axis=1)"
      ],
      "metadata": {
        "colab": {
          "base_uri": "https://localhost:8080/"
        },
        "id": "oHZL6t9-S3l5",
        "outputId": "abf2a202-f705-4b5c-e6d7-87b1d32c8376"
      },
      "execution_count": 172,
      "outputs": [
        {
          "output_type": "execute_result",
          "data": {
            "text/plain": [
              "array([14,  3, 34])"
            ]
          },
          "metadata": {},
          "execution_count": 172
        }
      ]
    },
    {
      "cell_type": "code",
      "source": [
        "\"\"\"axis = 0 sütunlar içerisinde operasyon yaparken\n",
        "axis=1 satırlar içinde işlem yapar\"\"\""
      ],
      "metadata": {
        "colab": {
          "base_uri": "https://localhost:8080/",
          "height": 35
        },
        "id": "Jx9ZZJzUTAmL",
        "outputId": "5292fddc-532a-4a1e-ad86-2e4b609be9f1"
      },
      "execution_count": 175,
      "outputs": [
        {
          "output_type": "execute_result",
          "data": {
            "text/plain": [
              "'axis = 0 sütunlar içerisinde operasyon yaparken \\naxis=1 satırlar içinde işlem yapar'"
            ],
            "application/vnd.google.colaboratory.intrinsic+json": {
              "type": "string"
            }
          },
          "metadata": {},
          "execution_count": 175
        }
      ]
    },
    {
      "cell_type": "code",
      "source": [
        "data = np.array([[1, 2],[15,-1]])\n",
        "print(data)\n",
        "\n",
        "data.max(axis=0)"
      ],
      "metadata": {
        "colab": {
          "base_uri": "https://localhost:8080/"
        },
        "id": "Joty9f8xT5aa",
        "outputId": "3acefff3-433d-485f-d3f0-46ed8b5730cd"
      },
      "execution_count": 191,
      "outputs": [
        {
          "output_type": "stream",
          "name": "stdout",
          "text": [
            "[[ 1  2]\n",
            " [15 -1]]\n"
          ]
        },
        {
          "output_type": "execute_result",
          "data": {
            "text/plain": [
              "array([15,  2])"
            ]
          },
          "metadata": {},
          "execution_count": 191
        }
      ]
    },
    {
      "cell_type": "code",
      "source": [
        "data.min(axis=0)"
      ],
      "metadata": {
        "colab": {
          "base_uri": "https://localhost:8080/"
        },
        "id": "4Zr-tgo0T6-h",
        "outputId": "5fc789f8-e9fb-4346-dcb3-35805725b7c0"
      },
      "execution_count": 188,
      "outputs": [
        {
          "output_type": "execute_result",
          "data": {
            "text/plain": [
              "array([ 1, -1])"
            ]
          },
          "metadata": {},
          "execution_count": 188
        }
      ]
    },
    {
      "cell_type": "code",
      "source": [
        "data.sum(axis=1)"
      ],
      "metadata": {
        "colab": {
          "base_uri": "https://localhost:8080/"
        },
        "id": "hw3B4F7MUBLh",
        "outputId": "2fa7c675-c3c3-4722-bacb-bc086b3cf9d8"
      },
      "execution_count": 190,
      "outputs": [
        {
          "output_type": "execute_result",
          "data": {
            "text/plain": [
              "array([ 3, 14])"
            ]
          },
          "metadata": {},
          "execution_count": 190
        }
      ]
    },
    {
      "cell_type": "code",
      "source": [
        "data = np.array([[1, 2], [3, 4], [5, 6]])"
      ],
      "metadata": {
        "id": "VMkB1A-zUCmi"
      },
      "execution_count": 192,
      "outputs": []
    },
    {
      "cell_type": "code",
      "source": [
        "data[0,1]"
      ],
      "metadata": {
        "colab": {
          "base_uri": "https://localhost:8080/"
        },
        "id": "KH7pQq_fUqah",
        "outputId": "06d82b0c-a9b7-4327-810d-6511ac844e08"
      },
      "execution_count": 193,
      "outputs": [
        {
          "output_type": "execute_result",
          "data": {
            "text/plain": [
              "2"
            ]
          },
          "metadata": {},
          "execution_count": 193
        }
      ]
    },
    {
      "cell_type": "code",
      "source": [
        "data[1:2]"
      ],
      "metadata": {
        "colab": {
          "base_uri": "https://localhost:8080/"
        },
        "id": "aEEwx1rjUs2x",
        "outputId": "659e998f-8644-4797-a39b-9ec6de711db0"
      },
      "execution_count": 195,
      "outputs": [
        {
          "output_type": "execute_result",
          "data": {
            "text/plain": [
              "array([[3, 4]])"
            ]
          },
          "metadata": {},
          "execution_count": 195
        }
      ]
    },
    {
      "cell_type": "code",
      "source": [
        "data[0:2, 0]"
      ],
      "metadata": {
        "colab": {
          "base_uri": "https://localhost:8080/"
        },
        "id": "yvSc_Q0gU67-",
        "outputId": "1584f6c7-d2ee-462d-802b-5bbcb579811c"
      },
      "execution_count": 196,
      "outputs": [
        {
          "output_type": "execute_result",
          "data": {
            "text/plain": [
              "array([1, 3])"
            ]
          },
          "metadata": {},
          "execution_count": 196
        }
      ]
    },
    {
      "cell_type": "code",
      "source": [
        "#axis=0 sütunları tarar, axis=1 satırları tarar\n",
        "\n",
        "np.ones((4, 3, 2))"
      ],
      "metadata": {
        "colab": {
          "base_uri": "https://localhost:8080/"
        },
        "id": "rDiuYNciVDKh",
        "outputId": "c7f21a78-36f3-4b7e-bea3-b6f0d8900da4"
      },
      "execution_count": 197,
      "outputs": [
        {
          "output_type": "execute_result",
          "data": {
            "text/plain": [
              "array([[[1., 1.],\n",
              "        [1., 1.],\n",
              "        [1., 1.]],\n",
              "\n",
              "       [[1., 1.],\n",
              "        [1., 1.],\n",
              "        [1., 1.]],\n",
              "\n",
              "       [[1., 1.],\n",
              "        [1., 1.],\n",
              "        [1., 1.]],\n",
              "\n",
              "       [[1., 1.],\n",
              "        [1., 1.],\n",
              "        [1., 1.]]])"
            ]
          },
          "metadata": {},
          "execution_count": 197
        }
      ]
    },
    {
      "cell_type": "code",
      "source": [
        "rng = np.random.default_rng()\n",
        "rng.random(3)"
      ],
      "metadata": {
        "colab": {
          "base_uri": "https://localhost:8080/"
        },
        "id": "onsH2FIhWDtx",
        "outputId": "a43ca77f-029b-4694-dfda-c71f5219bea9"
      },
      "execution_count": 199,
      "outputs": [
        {
          "output_type": "execute_result",
          "data": {
            "text/plain": [
              "array([0.65193154, 0.91592204, 0.98627085])"
            ]
          },
          "metadata": {},
          "execution_count": 199
        }
      ]
    },
    {
      "cell_type": "code",
      "source": [
        "x=0\n",
        "while x<=3:\n",
        "  print(rng.integers(500, size=(4, 2)))\n",
        "  x=x+1"
      ],
      "metadata": {
        "colab": {
          "base_uri": "https://localhost:8080/"
        },
        "id": "bKR06fzVWMH5",
        "outputId": "0e1125bf-aca9-48f6-e0ca-edc793c89a5c"
      },
      "execution_count": 209,
      "outputs": [
        {
          "output_type": "stream",
          "name": "stdout",
          "text": [
            "[[344 397]\n",
            " [  4 152]\n",
            " [ 23  88]\n",
            " [483 116]]\n",
            "[[263 238]\n",
            " [ 78 371]\n",
            " [365 168]\n",
            " [141 212]]\n",
            "[[197 288]\n",
            " [291 219]\n",
            " [ 82 448]\n",
            " [367 370]]\n",
            "[[322 227]\n",
            " [422 335]\n",
            " [407  42]\n",
            " [312 226]]\n"
          ]
        }
      ]
    },
    {
      "cell_type": "code",
      "source": [
        "import pandas as pd\n",
        "\n",
        "data_path ="
      ],
      "metadata": {
        "id": "vQSceFaEWa4Y"
      },
      "execution_count": null,
      "outputs": []
    },
    {
      "cell_type": "code",
      "source": [
        "a = np.array([11, 11, 12, 13, 14, 15, 16, 17, 12, 13, 11, 14, 18, 19, 20])\n"
      ],
      "metadata": {
        "id": "SjH3f3vkX72J"
      },
      "execution_count": 210,
      "outputs": []
    },
    {
      "cell_type": "code",
      "source": [
        "unique_values = np.unique(a)\n",
        "print(unique_values)"
      ],
      "metadata": {
        "colab": {
          "base_uri": "https://localhost:8080/"
        },
        "id": "qW5WPH8FX8b-",
        "outputId": "17581e1f-2b10-4b1d-f7b1-8ba04faafd6d"
      },
      "execution_count": 211,
      "outputs": [
        {
          "output_type": "stream",
          "name": "stdout",
          "text": [
            "[11 12 13 14 15 16 17 18 19 20]\n"
          ]
        }
      ]
    },
    {
      "cell_type": "code",
      "source": [
        "a.count(\"11\")"
      ],
      "metadata": {
        "colab": {
          "base_uri": "https://localhost:8080/",
          "height": 141
        },
        "id": "tMq3ZnGoX-L4",
        "outputId": "5930b115-c38b-4d55-d149-1e445497acca"
      },
      "execution_count": 213,
      "outputs": [
        {
          "output_type": "error",
          "ename": "AttributeError",
          "evalue": "'numpy.ndarray' object has no attribute 'count'",
          "traceback": [
            "\u001b[0;31m---------------------------------------------------------------------------\u001b[0m",
            "\u001b[0;31mAttributeError\u001b[0m                            Traceback (most recent call last)",
            "\u001b[0;32m<ipython-input-213-35fb8cdf21e9>\u001b[0m in \u001b[0;36m<cell line: 1>\u001b[0;34m()\u001b[0m\n\u001b[0;32m----> 1\u001b[0;31m \u001b[0ma\u001b[0m\u001b[0;34m.\u001b[0m\u001b[0mcount\u001b[0m\u001b[0;34m(\u001b[0m\u001b[0;34m\"11\"\u001b[0m\u001b[0;34m)\u001b[0m\u001b[0;34m\u001b[0m\u001b[0;34m\u001b[0m\u001b[0m\n\u001b[0m",
            "\u001b[0;31mAttributeError\u001b[0m: 'numpy.ndarray' object has no attribute 'count'"
          ]
        }
      ]
    },
    {
      "cell_type": "code",
      "source": [
        "unique_values, occurrence_count = np.unique(a, return_counts=True)\n",
        "print(occurrence_count)"
      ],
      "metadata": {
        "colab": {
          "base_uri": "https://localhost:8080/"
        },
        "id": "5tk7KuvXYWg1",
        "outputId": "8cf05c74-ae8b-4eaf-d4f6-3aa824427138"
      },
      "execution_count": 214,
      "outputs": [
        {
          "output_type": "stream",
          "name": "stdout",
          "text": [
            "[3 2 2 2 1 1 1 1 1 1]\n"
          ]
        }
      ]
    },
    {
      "cell_type": "code",
      "source": [],
      "metadata": {
        "id": "tch5cdz-YnXf"
      },
      "execution_count": null,
      "outputs": []
    }
  ]
}